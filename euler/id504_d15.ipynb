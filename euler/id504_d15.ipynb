{
 "cells": [
  {
   "cell_type": "markdown",
   "metadata": {},
   "source": [
    "$$\n",
    "\\begin{array}{}\n",
    "  & \\text{For a quadrilateral Q} \\subset\\mathbb{R}^2 \\text{ bounded by } \\{(a,0), (0,b), (-c,0), (0,-d)\\}, \\text{we have: } \\\\ \\\\ \n",
    "  & (Q \\setminus \\partial Q) \\cap \\mathbb{Z}^2 = |Q| - \\displaystyle\\frac{1}{2} |\\partial Q \\cap \\mathbb{Z}^2| + 1 \\\\ \\\\\n",
    "  &|Q| = \\displaystyle\\frac{1}{2} (ab + bc + cd + da) \\\\ \\\\\n",
    "  &|\\partial Q \\cap \\mathbb{Z}^2| = \\gcd(a,b) + \\gcd(b,c) + \\gcd(c,d) + \\gcd(d,a) \\\\\\\\\n",
    "  & \\text{Note that the number of unique quadrilaterals modulo \\( D_8 \\)-symmetry is given by:} \\\\\\\\\n",
    "  &\\displaystyle\\chi = \\{(a, b, c, d) \\mid 1 \\leq a, b, c, d \\leq 100 \\} \\\\\\\\\n",
    "  & \\displaystyle\\left| \\frac{\\chi}{D_8} \\right| = \\frac{1}{|D_8|} \\sum_{f \\in D_8} |\\chi^f| \\\\\n",
    "  & = \\displaystyle\\frac{1}{8} \\left[ \n",
    "      \\underbrace{10^2}_{90^\\circ} + \n",
    "      \\underbrace{10^2}_{180^\\circ} + \n",
    "      \\underbrace{10^2}_{270^\\circ} + \n",
    "      \\underbrace{10^2}_{\\text{id}} + \n",
    "      \\underbrace{10^6}_{\\text{Ref}_{\\hat{\\textbf{i}}}} + \n",
    "      \\underbrace{10^6}_{\\text{Ref}_{\\hat{\\textbf{j}}}} + \n",
    "      \\underbrace{10^4}_{\\text{Ref}_{\\hat{\\textbf{i}} + \\hat{\\textbf{j}}}} + \n",
    "      \\underbrace{10^4}_{\\text{Ref}_{\\hat{\\textbf{i}} - \\hat{\\textbf{j}}}} \n",
    "    \\right] = 12753775\\\\\\\\\n",
    "  & \\text{Hence an order of magnitude redundancy, but } O(n^4) \\text{ is sufficent}\n",
    "\\end{array}\n",
    "$$\n"
   ]
  },
  {
   "cell_type": "code",
   "execution_count": null,
   "metadata": {},
   "outputs": [
    {
     "name": "stdout",
     "output_type": "stream",
     "text": [
      "res: 694687\n"
     ]
    }
   ],
   "source": [
    "from math import gcd\n",
    "\n",
    "def res():\n",
    "  m,total=100,0\n",
    "\n",
    "  for a in range(1, m+1):\n",
    "    for b in range(1, m+1):\n",
    "      for c in range(1, m+1):\n",
    "        for d in range(1, m+1):\n",
    "          i=(((0.5)*((a*b+b*c+c*d+d*a)-gcd(a,b)-gcd(b,c)-gcd(c,d)-gcd(d,a)))+1)**0.5\n",
    "\n",
    "          if int(i)==i:\n",
    "            total+=1\n",
    "      \n",
    "  return total\n",
    "\n",
    "def brute():\n",
    "  return 0\n",
    "\n",
    "print(f'res: {res()}')\n",
    "# print(f'brute res: {brute()}')"
   ]
  }
 ],
 "metadata": {
  "kernelspec": {
   "display_name": "euler--WaP889N-py3.12",
   "language": "python",
   "name": "python3"
  },
  "language_info": {
   "codemirror_mode": {
    "name": "ipython",
    "version": 3
   },
   "file_extension": ".py",
   "mimetype": "text/x-python",
   "name": "python",
   "nbconvert_exporter": "python",
   "pygments_lexer": "ipython3",
   "version": "3.12.2"
  }
 },
 "nbformat": 4,
 "nbformat_minor": 2
}
