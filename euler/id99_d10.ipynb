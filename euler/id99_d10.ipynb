{
 "cells": [
  {
   "cell_type": "markdown",
   "metadata": {},
   "source": []
  },
  {
   "cell_type": "code",
   "execution_count": null,
   "metadata": {},
   "outputs": [
    {
     "name": "stdout",
     "output_type": "stream",
     "text": [
      "709\n",
      "res: 709\n"
     ]
    }
   ],
   "source": [
    "import math\n",
    "\n",
    "def res():\n",
    "  nums=[x.split(',') for x in open('../files/id99.txt', 'r').readlines()]\n",
    "  idx,mx=0,0\n",
    "\n",
    "  for i, x in enumerate(nums):\n",
    "    base,exp=int(x[0]),int(x[1])\n",
    "\n",
    "    if mx<(n:= (exp*math.log(base))):\n",
    "      mx=n\n",
    "      idx=i+1\n",
    "\n",
    "  return idx \n",
    "\n",
    "def brute():\n",
    "  return 0\n",
    "\n",
    "print(f'res: {res()}')\n",
    "# print(f'brute res: {brute()}')"
   ]
  }
 ],
 "metadata": {
  "kernelspec": {
   "display_name": "euler--WaP889N-py3.12",
   "language": "python",
   "name": "python3"
  },
  "language_info": {
   "codemirror_mode": {
    "name": "ipython",
    "version": 3
   },
   "file_extension": ".py",
   "mimetype": "text/x-python",
   "name": "python",
   "nbconvert_exporter": "python",
   "pygments_lexer": "ipython3",
   "version": "3.12.2"
  }
 },
 "nbformat": 4,
 "nbformat_minor": 2
}
