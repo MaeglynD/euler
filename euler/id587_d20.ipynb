{
 "cells": [
  {
   "cell_type": "markdown",
   "metadata": {},
   "source": [
    "\\begin{aligned}\n",
    "    &f_1 = 1 - \\sqrt{1 - (x - 1)^2}, \\quad f_2 = \\frac{1}{n}x \\\\\\\\\n",
    "    &\\Rightarrow f_1 - f_2 = 0 \\\\\\\\\n",
    "    &\\Rightarrow \\left[ \\frac{\\left(1 + \\frac{1}{n}\\right) - \\left(\\left(1 + \\frac{1}{n}\\right)^2 - \\frac{1}{n^2} - 1\\right)^{1/2}}{\\frac{1}{n^2} + 1} \\right] = \\frac{\\frac{1}{n} + 1 - \\sqrt{\\frac{2}{n}}}{\\frac{1}{n^2} + 1} =: f_1 \\cap f_2 =: \\mu \\\\\\\\\n",
    "    &\\Rightarrow \\int f_1 \\, dx = -\\int (\\sqrt{1 - (x - 1)^2} + 1) \\, dx \\\\\\\\\n",
    "    &\\phantom{\\Rightarrow \\int f_1 \\, dx} = x - \\frac{1}{2} \\left[ (x - 1) \\sqrt{1 - (x - 1)^2} - \\arctan\\left(\\frac{\\sqrt{1 - (x - 1)^2}}{x - 1}\\right) \\right] \\\\\\\\\n",
    "    &\\text{So the }\\mathcal{L}\\text{-percentage is:} \\\\\\\\\n",
    "    &\\Rightarrow \\mathcal{L}(\\mu(n)) := \\frac{\\frac{1}{2} \\mu \\cdot f_1(\\mu) - \\int_{\\mu}^{1} f_1(x) \\, dx}{1 - \\frac{1}{4} \\pi} \\cdot 100 \\\\\\\\\n",
    "    &\\Rightarrow \\underset{n}{\\operatorname{argmax}} \\left\\{ \\mathcal{L}(\\mu(n)) < 0.1 \\right\\}\n",
    "\\end{aligned}\n"
   ]
  },
  {
   "cell_type": "code",
   "execution_count": 65,
   "metadata": {},
   "outputs": [
    {
     "name": "stdout",
     "output_type": "stream",
     "text": [
      "res: 2240\n"
     ]
    }
   ],
   "source": [
    "import math\n",
    "\n",
    "def f(x):\n",
    "  fa=x-1\n",
    "  fb=(1-(fa**2))**0.5\n",
    "\n",
    "  return x-((1/2)*((fa*fb)-(math.atan(fb/fa))))\n",
    "\n",
    "def l_percentage(n):\n",
    "  a,b=(1+(n**(-1))),(n**(-2))+1\n",
    "  mu=(b**(-1))*(a-(a**2-b)**0.5)\n",
    "  l=1-((1/4)*math.pi)\n",
    "\n",
    "  return 100*(1/l)*(((1/2)*mu*(1-(1-((mu-1)**2))**0.5))+(l-f(mu)))\n",
    "\n",
    "def res():\n",
    "  for i in range(15, int(1e4)):\n",
    "    if l_percentage(i)<0.1:\n",
    "      return i\n",
    "\n",
    "  return 0\n",
    "\n",
    "def brute():\n",
    "  return 0\n",
    "\n",
    "print(f'res: {res()}')\n",
    "# print(f'brute res: {brute()}')"
   ]
  }
 ],
 "metadata": {
  "kernelspec": {
   "display_name": "euler--WaP889N-py3.12",
   "language": "python",
   "name": "python3"
  },
  "language_info": {
   "codemirror_mode": {
    "name": "ipython",
    "version": 3
   },
   "file_extension": ".py",
   "mimetype": "text/x-python",
   "name": "python",
   "nbconvert_exporter": "python",
   "pygments_lexer": "ipython3",
   "version": "3.12.2"
  }
 },
 "nbformat": 4,
 "nbformat_minor": 2
}
