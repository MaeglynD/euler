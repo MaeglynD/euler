{
 "cells": [
  {
   "cell_type": "markdown",
   "metadata": {},
   "source": []
  },
  {
   "cell_type": "code",
   "execution_count": null,
   "metadata": {},
   "outputs": [
    {
     "name": "stdout",
     "output_type": "stream",
     "text": [
      "res: -59231\n"
     ]
    }
   ],
   "source": [
    "import math\n",
    "\n",
    "def is_prime(n):\n",
    "  if n==1 or n%2==0:\n",
    "    return False\n",
    "  \n",
    "  for i in range(3, int(n**0.5)+1, 2):\n",
    "    if n%i==0:\n",
    "      return False\n",
    "\n",
    "  return True\n",
    "\n",
    "def res():\n",
    "  mxa, mxb = 0, 0\n",
    "  mx=0\n",
    "  \n",
    "  for a in range(-999, 1000):\n",
    "    for b in range(-1000, 1000):\n",
    "      n=0\n",
    "\n",
    "      while is_prime(abs((n**2)+(n*a)+b)):\n",
    "        n+=1\n",
    "      \n",
    "      if mx < n:\n",
    "        mx=n\n",
    "        mxa=a\n",
    "        mxb=b\n",
    "  \n",
    "  return mxa*mxb\n",
    "\n",
    "def brute():\n",
    "  return 0\n",
    "\n",
    "print(f'res: {res()}')\n",
    "# print(f'brute res: {brute()}')"
   ]
  }
 ],
 "metadata": {
  "kernelspec": {
   "display_name": "euler--WaP889N-py3.12",
   "language": "python",
   "name": "python3"
  },
  "language_info": {
   "codemirror_mode": {
    "name": "ipython",
    "version": 3
   },
   "file_extension": ".py",
   "mimetype": "text/x-python",
   "name": "python",
   "nbconvert_exporter": "python",
   "pygments_lexer": "ipython3",
   "version": "3.12.2"
  }
 },
 "nbformat": 4,
 "nbformat_minor": 2
}
