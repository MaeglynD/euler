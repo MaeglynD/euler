{
 "cells": [
  {
   "cell_type": "markdown",
   "metadata": {},
   "source": [
    "\\begin{aligned}\n",
    "    s(n) & := \\operatorname*{argmin}_{m} \\left\\{ n \\mid m! \\right\\}, \\quad \\nu_p(m!) = \\sum_{i=1}^{\\infty} \\left\\lfloor \\frac{m}{p^i} \\right\\rfloor \\\\[10pt]\n",
    "    & \\overset{!}{=} \\max \\left\\{ s(p_1^{e_1}), s(p_2^{e_2}), \\ldots, s(p_k^{e_k}) : p_i^{e_i} \\mid\\mid n \\right\\} \\\\[10pt]\n",
    "    s(p^k) & = \\operatorname*{argmin}_{m} \\left\\{ \\nu_p((m-1)!) < k \\leq \\nu_p(m!) \\right\\}\n",
    "\\end{aligned}\n"
   ]
  },
  {
   "cell_type": "code",
   "execution_count": null,
   "metadata": {},
   "outputs": [
    {
     "name": "stdout",
     "output_type": "stream",
     "text": [
      "res: 476001479068717\n"
     ]
    }
   ],
   "source": [
    "import math\n",
    "\n",
    "def sieve(n):\n",
    "  spf=list(range(n))\n",
    "\n",
    "  for i in range(2, int(n**0.5)+1):\n",
    "    if spf[i]==i:\n",
    "      for j in range(i*i, n, i):\n",
    "        if spf[j]==j:\n",
    "          spf[j]=i \n",
    "\n",
    "  return spf\n",
    "\n",
    "def nu(p, n):\n",
    "  i,res=1,0\n",
    "\n",
    "  while (x:=int(n/(p**i)))>0:\n",
    "    res+=x\n",
    "    i+=1\n",
    "\n",
    "  return res\n",
    "\n",
    "def s(p,e):\n",
    "  i=p\n",
    "\n",
    "  while nu(p,i)<e:\n",
    "    i+=p\n",
    "\n",
    "  return i\n",
    "\n",
    "spf=sieve(int(1e8)+1)\n",
    "mem={}\n",
    "\n",
    "def res():\n",
    "  total=0\n",
    "\n",
    "  for i in range(2,int(1e8)+1):\n",
    "    if spf[i]==i:\n",
    "      total+=i\n",
    "    else:\n",
    "      mx,n=0,i\n",
    "\n",
    "      while n!=1:\n",
    "        p,i=spf[n],0\n",
    "\n",
    "        while n%p==0:\n",
    "          i+=1\n",
    "          n//=p\n",
    "\n",
    "        idx=(p,i)\n",
    "\n",
    "        if idx not in mem:\n",
    "          mem[idx]=s(p,i)\n",
    "\n",
    "        mx=max(mem[idx], mx) \n",
    "\n",
    "      total+=mx\n",
    "  \n",
    "  return total\n",
    "\n",
    "def brute():\n",
    "  return 0\n",
    "\n",
    "print(f'res: {res()}')\n",
    "# print(f'brute res: {brute()}')"
   ]
  }
 ],
 "metadata": {
  "kernelspec": {
   "display_name": "euler--WaP889N-py3.12",
   "language": "python",
   "name": "python3"
  },
  "language_info": {
   "codemirror_mode": {
    "name": "ipython",
    "version": 3
   },
   "file_extension": ".py",
   "mimetype": "text/x-python",
   "name": "python",
   "nbconvert_exporter": "python",
   "pygments_lexer": "ipython3",
   "version": "3.12.2"
  }
 },
 "nbformat": 4,
 "nbformat_minor": 2
}
