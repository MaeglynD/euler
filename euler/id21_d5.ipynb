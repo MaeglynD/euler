{
 "cells": [
  {
   "cell_type": "markdown",
   "metadata": {},
   "source": [
    "For ($x\\neq 0$):\n",
    "$${\\displaystyle \\sigma _{x}(n)=\\prod _{i=1}^{\\omega(n)}{\\frac {p_{i}^{(a_{i}+1)x}-1}{p_{i}^{x}-1}}.}$$\n",
    "\n",
    "so:\n",
    "$$d(n) = \\sigma_1(n) - n =\\left(\\prod_{p|n}\\frac{1}{(p-1)}\\right)\\left(\\prod_{p^{k}\\left|\\right|n}p^{k+1}-1\\right) -n$$\n",
    "\n",
    "https://en.wikipedia.org/wiki/Divisor_function#Properties"
   ]
  },
  {
   "cell_type": "code",
   "execution_count": 36,
   "metadata": {},
   "outputs": [
    {
     "name": "stdout",
     "output_type": "stream",
     "text": [
      "math res: 31626\n"
     ]
    }
   ],
   "source": [
    "import math\n",
    "\n",
    "# notes\n",
    "# - is there a function f(n) = max({ω(k) : 1 <= k <= n}) ? \n",
    "# - average order of ω(n) and Ω(n) ~ ln(ln(n))\n",
    "\n",
    "def sieve(n):\n",
    "  p = [True]*n\n",
    "  p[0] = p[1] = False\n",
    "\n",
    "  for i in range(2, math.ceil(n**0.5)):\n",
    "    if p[i]:\n",
    "      for j in range(i**2, n, i):\n",
    "        p[j] = False\n",
    "\n",
    "  return [i for i in range(n) if p[i]]\n",
    "\n",
    "primes = sieve(int(1e4))\n",
    "\n",
    "def ds(n):\n",
    "  mem = {}\n",
    "  tmp = n\n",
    "\n",
    "  for p in primes:\n",
    "    if n%p==0:\n",
    "      mem[p] = 0\n",
    "\n",
    "    while n%p==0:\n",
    "      mem[p]+=1\n",
    "      n//=p\n",
    "\n",
    "    if n==1:\n",
    "      break\n",
    "\n",
    "  return int(math.prod((1/(p-1))*((p**(mem[p]+1))-1) for p in mem) - tmp)\n",
    "\n",
    "def res():\n",
    "  d = [0, *[ds(n) for n in range(1, int(1e4))]]\n",
    "  return sum([n for i, n in enumerate(d) if n != i and n < int(1e4) and d[n] == i])\n",
    "\n",
    "def brute():\n",
    "  return 0\n",
    "\n",
    "print(f'res: {res()}')\n",
    "# print(f'brute res: {brute()}')"
   ]
  }
 ],
 "metadata": {
  "kernelspec": {
   "display_name": "Python 3",
   "language": "python",
   "name": "python3"
  },
  "language_info": {
   "codemirror_mode": {
    "name": "ipython",
    "version": 3
   },
   "file_extension": ".py",
   "mimetype": "text/x-python",
   "name": "python",
   "nbconvert_exporter": "python",
   "pygments_lexer": "ipython3",
   "version": "3.12.2"
  }
 },
 "nbformat": 4,
 "nbformat_minor": 2
}
