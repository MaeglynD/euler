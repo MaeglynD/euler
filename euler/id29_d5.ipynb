{
 "cells": [
  {
   "cell_type": "markdown",
   "metadata": {},
   "source": [
    "$$\n",
    "\\begin{aligned}\n",
    "    & \\pi(100) \\sim \\frac{100}{\\ln(100)} \\approx 22 \\\\ \\\\\n",
    "    \\Rightarrow & \\quad a_1 : (\\nu_{p_1}(a_1), \\ldots, \\nu_{p_{22}}(a_1)) \\\\\n",
    "    & \\quad \\vdots \\\\\n",
    "    & \\quad a_k : (\\nu_{p_1}(a_k), \\ldots, \\nu_{p_{22}}(a_k)) \\\\ \\\\\n",
    "    \\Rightarrow &  \\quad (\\textit{unique }a_i^b) \\xleftrightarrow{\\text{bij.}} \\text{Hash}(b \\cdot \\nu_{p_1}(a_k), \\ldots, b \\cdot \\nu_{p_{22}}(a_k)) \\\\ \\\\\n",
    "    \\Rightarrow &  \\quad \\left| \\{ \\text{Hash}(a_i^b) : a, b \\in \\{2, \\ldots, 100\\} \\} \\right|\n",
    "\\end{aligned}\n",
    "$$\n"
   ]
  },
  {
   "cell_type": "code",
   "execution_count": 20,
   "metadata": {},
   "outputs": [
    {
     "name": "stdout",
     "output_type": "stream",
     "text": [
      "res: 9183\n"
     ]
    }
   ],
   "source": [
    "import math\n",
    "\n",
    "def sieve(n):\n",
    "  p=[True]*n\n",
    "  p[0]=p[1]=False\n",
    "\n",
    "  for i in range(2, int(n**0.5)+1):\n",
    "    if p[i]:\n",
    "      for j in range(i**2, n, i):\n",
    "        p[j]=False\n",
    "\n",
    "  return [i for i in range(n) if p[i]]\n",
    "  \n",
    "def nu(p, n):\n",
    "  v=0\n",
    "\n",
    "  while n%p==0:\n",
    "    v+=1\n",
    "    n//=p\n",
    "\n",
    "  return v\n",
    "\n",
    "def res():\n",
    "  primes=sieve(101)\n",
    "  a_decomp=[[nu(p, n) for p in primes] for n in range(2, 101)]\n",
    "  hashed=set()\n",
    "\n",
    "  for b in range(2, 101):\n",
    "    for a in a_decomp:\n",
    "      hashed.add(tuple(b*v for v in a))\n",
    "\n",
    "  return len(hashed) \n",
    "\n",
    "def brute():\n",
    "  return 0\n",
    "\n",
    "print(f'res: {res()}')\n",
    "# print(f'brute res: {brute()}')"
   ]
  }
 ],
 "metadata": {
  "kernelspec": {
   "display_name": "euler--WaP889N-py3.12",
   "language": "python",
   "name": "python3"
  },
  "language_info": {
   "codemirror_mode": {
    "name": "ipython",
    "version": 3
   },
   "file_extension": ".py",
   "mimetype": "text/x-python",
   "name": "python",
   "nbconvert_exporter": "python",
   "pygments_lexer": "ipython3",
   "version": "3.12.2"
  }
 },
 "nbformat": 4,
 "nbformat_minor": 2
}
