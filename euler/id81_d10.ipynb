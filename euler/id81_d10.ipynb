{
 "cells": [
  {
   "cell_type": "markdown",
   "metadata": {},
   "source": []
  },
  {
   "cell_type": "code",
   "execution_count": null,
   "metadata": {},
   "outputs": [
    {
     "name": "stdout",
     "output_type": "stream",
     "text": [
      "res: 427337\n"
     ]
    }
   ],
   "source": [
    "import math\n",
    "from collections import deque\n",
    "\n",
    "def res():\n",
    "  mem=[[int(j) for j in i.split(',')] for i in open('../files/id81.txt', 'r').readlines()]\n",
    "  c=[[math.inf]*len(mem[0]) for _ in mem]\n",
    "  q=deque([(0,0)])\n",
    "\n",
    "  c[0][0]=mem[0][0]\n",
    "\n",
    "  while q:\n",
    "    i,j=q.popleft()\n",
    "\n",
    "    if (i+1)<len(c):\n",
    "      if (nc:=(c[i][j]+mem[i+1][j])) < c[i+1][j]:\n",
    "        c[i+1][j]=nc\n",
    "        q.append((i+1,j))\n",
    "\n",
    "    if (j+1)<len(c[0]):\n",
    "      if (nc:=(c[i][j]+mem[i][j+1])) < c[i][j+1]:\n",
    "        c[i][j+1]=nc\n",
    "        q.append((i,j+1))\n",
    "\n",
    "  return c[-1][-1]\n",
    "\n",
    "def brute():\n",
    "  return 0\n",
    "\n",
    "print(f'res: {res()}')\n",
    "# print(f'brute res: {brute()}')"
   ]
  }
 ],
 "metadata": {
  "kernelspec": {
   "display_name": "euler--WaP889N-py3.12",
   "language": "python",
   "name": "python3"
  },
  "language_info": {
   "codemirror_mode": {
    "name": "ipython",
    "version": 3
   },
   "file_extension": ".py",
   "mimetype": "text/x-python",
   "name": "python",
   "nbconvert_exporter": "python",
   "pygments_lexer": "ipython3",
   "version": "3.12.2"
  }
 },
 "nbformat": 4,
 "nbformat_minor": 2
}
