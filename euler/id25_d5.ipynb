{
 "cells": [
  {
   "cell_type": "markdown",
   "metadata": {},
   "source": [
    "\\begin{aligned}\n",
    "    & \\mathcal{F}_{n} = \\frac{1}{\\sqrt{5}} \\left( \\phi^{n} - (-\\phi)^{-n} \\right), \\quad \\log_{10} \\mathcal{F}_{n} = \\# \\text{ digits} \\\\ \n",
    "    & \\Rightarrow \\log_{10} \\mathcal{F}_{n} \\approx \\log_{10} \\left( \\phi^{n} \\cdot 5^{-\\frac{1}{2}} \\right) = n \\cdot \\log_{10} \\phi - \\frac{1}{2} \\log_{10} 5  \\\\ \n",
    "    & \\Rightarrow \\min_{n \\in \\mathbb{N}} \\left\\{ \\log_{10} \\mathcal{F}_{n} = 999 \\right\\} = \\min_{n \\in \\mathbb{N}} \\left\\{ n \\geq \\frac{999 + \\frac{1}{2} \\log_{10} 5}{\\log_{10} \\phi} \\right\\} \\\\ \n",
    "    & \\Rightarrow n = \\left\\lceil \\frac{999 + \\frac{1}{2} \\log_{10} 5}{\\log_{10} \\phi} \\right\\rceil\n",
    "\\end{aligned}\n"
   ]
  },
  {
   "cell_type": "code",
   "execution_count": null,
   "metadata": {},
   "outputs": [
    {
     "name": "stdout",
     "output_type": "stream",
     "text": [
      "res: 4782\n"
     ]
    }
   ],
   "source": [
    "import math\n",
    "\n",
    "# notes\n",
    "# number of digits of Fn ~ n*log(phi)\n",
    "\n",
    "def res():\n",
    "  phi = 0.5*(1+(5**0.5))\n",
    "  return math.ceil((999 + 0.5*math.log(5, 10))/math.log(phi, 10))\n",
    "\n",
    "def brute():\n",
    "  return 0\n",
    "\n",
    "print(f'res: {res()}')\n",
    "# print(f'brute res: {brute()}')"
   ]
  }
 ],
 "metadata": {
  "kernelspec": {
   "display_name": "euler--WaP889N-py3.12",
   "language": "python",
   "name": "python3"
  },
  "language_info": {
   "codemirror_mode": {
    "name": "ipython",
    "version": 3
   },
   "file_extension": ".py",
   "mimetype": "text/x-python",
   "name": "python",
   "nbconvert_exporter": "python",
   "pygments_lexer": "ipython3",
   "version": "3.12.2"
  }
 },
 "nbformat": 4,
 "nbformat_minor": 2
}
