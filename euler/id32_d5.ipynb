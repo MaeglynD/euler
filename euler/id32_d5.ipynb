{
 "cells": [
  {
   "cell_type": "markdown",
   "metadata": {},
   "source": []
  },
  {
   "cell_type": "code",
   "execution_count": null,
   "metadata": {},
   "outputs": [
    {
     "name": "stdout",
     "output_type": "stream",
     "text": [
      "res: 45228\n"
     ]
    }
   ],
   "source": [
    "import math\n",
    "from itertools import permutations, combinations\n",
    "\n",
    "def res():\n",
    "  res=set()\n",
    "\n",
    "  for c in combinations(range(1, 10), 5):\n",
    "    for p in permutations(c):\n",
    "      for n in range(2):\n",
    "        prod=sum([x*(10**i) for i, x in enumerate(p[:n+1])])*sum([x*(10**i) for i, x in enumerate(p[n+1:])])\n",
    "        exc=set([0, *c])\n",
    "\n",
    "        for digit in str(prod):\n",
    "          if (d:= int(digit)) in exc:\n",
    "            break\n",
    "          else:\n",
    "            exc.add(d)\n",
    "        else:\n",
    "          res.add(prod)\n",
    "  \n",
    "  return sum(res)\n",
    "\n",
    "def brute():\n",
    "  return 0\n",
    "\n",
    "print(f'res: {res()}')\n",
    "# print(f'brute res: {brute()}')"
   ]
  }
 ],
 "metadata": {
  "kernelspec": {
   "display_name": "euler--WaP889N-py3.12",
   "language": "python",
   "name": "python3"
  },
  "language_info": {
   "codemirror_mode": {
    "name": "ipython",
    "version": 3
   },
   "file_extension": ".py",
   "mimetype": "text/x-python",
   "name": "python",
   "nbconvert_exporter": "python",
   "pygments_lexer": "ipython3",
   "version": "3.12.2"
  }
 },
 "nbformat": 4,
 "nbformat_minor": 2
}
