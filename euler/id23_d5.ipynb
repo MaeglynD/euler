{
 "cells": [
  {
   "cell_type": "markdown",
   "metadata": {},
   "source": []
  },
  {
   "cell_type": "code",
   "execution_count": null,
   "metadata": {},
   "outputs": [
    {
     "name": "stdout",
     "output_type": "stream",
     "text": [
      "res: 4179871\n"
     ]
    }
   ],
   "source": [
    "import math\n",
    "\n",
    "def sieve(n):\n",
    "  p = [True]*n\n",
    "  p[0]=p[1]=False\n",
    "\n",
    "  for i in range(2, int(n**0.5)+1):\n",
    "    if p[i]:\n",
    "      for j in range(i**2, n, i):\n",
    "        p[j]=False\n",
    "\n",
    "  return [i for i in range(n) if p[i]]\n",
    "\n",
    "bound = 28124\n",
    "primes = sieve(bound)\n",
    "\n",
    "def d(n):\n",
    "  nu = {}\n",
    "  m = n\n",
    "\n",
    "  for p in primes:\n",
    "    if m%p==0:\n",
    "      nu[p]=0\n",
    "    while m%p==0:\n",
    "      nu[p]+=1\n",
    "      m//=p\n",
    "    if m==1:\n",
    "      break\n",
    "\n",
    "  return int(math.prod(((p**(nu[p]+1))-1)*(1/(p-1)) for p in nu)-n)\n",
    "\n",
    "def res():\n",
    "  sum_of_abuns = set() \n",
    "  nums = [0, *[d(n) for n in range(1, bound)]]\n",
    "  abun = [n for n in range(bound) if nums[n]>n]\n",
    "\n",
    "  for i in range(len(abun)):\n",
    "    for j in range(i, len(abun)):\n",
    "      if (s:= abun[i]+abun[j]) < bound:\n",
    "        sum_of_abuns.add(s)\n",
    "\n",
    "  return sum(n for n in range(bound) if n not in sum_of_abuns)\n",
    "\n",
    "def brute():\n",
    "  return 0\n",
    "\n",
    "print(f'res: {res()}')\n",
    "# print(f'brute res: {brute()}')"
   ]
  }
 ],
 "metadata": {
  "kernelspec": {
   "display_name": "euler--WaP889N-py3.12",
   "language": "python",
   "name": "python3"
  },
  "language_info": {
   "codemirror_mode": {
    "name": "ipython",
    "version": 3
   },
   "file_extension": ".py",
   "mimetype": "text/x-python",
   "name": "python",
   "nbconvert_exporter": "python",
   "pygments_lexer": "ipython3",
   "version": "3.12.2"
  }
 },
 "nbformat": 4,
 "nbformat_minor": 2
}
