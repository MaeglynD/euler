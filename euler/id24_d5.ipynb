{
 "cells": [
  {
   "cell_type": "markdown",
   "metadata": {},
   "source": []
  },
  {
   "cell_type": "code",
   "execution_count": null,
   "metadata": {},
   "outputs": [
    {
     "name": "stdout",
     "output_type": "stream",
     "text": [
      "res: 2783915460\n"
     ]
    }
   ],
   "source": [
    "import math\n",
    "\n",
    "# notes\n",
    "#  n! ~ sqrt(2pi*n)*(n/e)^n\n",
    "\n",
    "def res():\n",
    "  m=[]\n",
    "  res=[]\n",
    "  ordered=list(range(10))\n",
    "  s=0\n",
    "\n",
    "  for i in range(9, -1, -1):\n",
    "    n=0\n",
    "\n",
    "    while (s+((n+1)*math.factorial(i))) < int(1e6):\n",
    "      n+=1\n",
    "\n",
    "    s+=n*math.factorial(i)\n",
    "    m.append(n)\n",
    "\n",
    "    res.append(ordered[n])\n",
    "    del ordered[n]\n",
    "\n",
    "  return ''.join(map(str, res))\n",
    "\n",
    "def brute():\n",
    "  return 0\n",
    "\n",
    "print(f'res: {res()}')\n",
    "# print(f'brute res: {brute()}')"
   ]
  }
 ],
 "metadata": {
  "kernelspec": {
   "display_name": "euler--WaP889N-py3.12",
   "language": "python",
   "name": "python3"
  },
  "language_info": {
   "codemirror_mode": {
    "name": "ipython",
    "version": 3
   },
   "file_extension": ".py",
   "mimetype": "text/x-python",
   "name": "python",
   "nbconvert_exporter": "python",
   "pygments_lexer": "ipython3",
   "version": "3.12.2"
  }
 },
 "nbformat": 4,
 "nbformat_minor": 2
}
