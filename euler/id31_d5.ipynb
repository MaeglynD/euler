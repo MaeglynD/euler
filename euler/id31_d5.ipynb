{
 "cells": [
  {
   "cell_type": "markdown",
   "metadata": {},
   "source": [
    "$$\n",
    "\\begin{gathered}\n",
    "    \\text{For any set of coins } \\mathfrak{C,} \\text{ the restricted partition function } P_{\\mathfrak{C}}(n) \\text{ has the generating function: }\n",
    "    \\\\ \\\\\n",
    "    \\prod_{c \\in \\mathfrak{C}} \\left( \\frac{1}{1 - x^{c}} \\right) = \\prod_{c \\in \\mathfrak{C}} \\left( \\sum_{k=0}^{\\infty} x^{kc} \\right), \n",
    "    \\quad |x^{c}| < 1\n",
    "    \\\\ \\\\\n",
    "    \\text{and the recurrence relation: } \\\\ \\\\ \n",
    "    P_{\\{c_1, \\ldots, c_n\\}}(n) = P_{\\{c_1, \\ldots, c_{n-1}\\}}(n) + P_{\\{c_1, \\ldots, c_n\\}}(n - c_n)\n",
    "    \\\\\n",
    "\\end{gathered}\n",
    "$$\n"
   ]
  },
  {
   "cell_type": "code",
   "execution_count": 10,
   "metadata": {},
   "outputs": [
    {
     "name": "stdout",
     "output_type": "stream",
     "text": [
      "res: 73682\n"
     ]
    }
   ],
   "source": [
    "import math\n",
    "\n",
    "def res():\n",
    "  T=[1,2,5,10,20,50,100]\n",
    "  dp=[0]*201\n",
    "  dp[0]=1\n",
    "\n",
    "  for t in T:\n",
    "    for i in range(t, 201):\n",
    "      dp[i]+=dp[i-t]\n",
    "  \n",
    "  return dp[200]+1\n",
    "\n",
    "def brute():\n",
    "  return 0\n",
    "\n",
    "print(f'res: {res()}')\n",
    "# print(f'brute res: {brute()}')"
   ]
  }
 ],
 "metadata": {
  "kernelspec": {
   "display_name": "euler--WaP889N-py3.12",
   "language": "python",
   "name": "python3"
  },
  "language_info": {
   "codemirror_mode": {
    "name": "ipython",
    "version": 3
   },
   "file_extension": ".py",
   "mimetype": "text/x-python",
   "name": "python",
   "nbconvert_exporter": "python",
   "pygments_lexer": "ipython3",
   "version": "3.12.2"
  }
 },
 "nbformat": 4,
 "nbformat_minor": 2
}
