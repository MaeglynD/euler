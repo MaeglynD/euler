{
 "cells": [
  {
   "cell_type": "markdown",
   "metadata": {},
   "source": [
    "\\begin{aligned} \n",
    "    & \\lim_{x\\to\\infty} \\left[\\frac{9^5 x}{10^{x-1}}\\right] = 0 \\\\  \\\\\n",
    "    & \\Rightarrow 9^5 x = 10^{x-1} \\\\  \\\\\n",
    "    & \\Rightarrow x = 5\\log_{10}(9) + \\underbrace{\\log_{10}(x)}_{10^{(x=6)} > 7 \\cdot 9^5} \\\\  \\\\\n",
    "    & \\Rightarrow \\text{Check} \\begin{Bmatrix} 2, \\ldots, 10^{(5 \\log_{10}(9) + \\log_{10}(6) \\approx 5.6)} \\end{Bmatrix}\n",
    "\\end{aligned}\n"
   ]
  },
  {
   "cell_type": "code",
   "execution_count": 51,
   "metadata": {},
   "outputs": [
    {
     "name": "stdout",
     "output_type": "stream",
     "text": [
      "res: 443839\n"
     ]
    }
   ],
   "source": [
    "import math\n",
    "\n",
    "def res():\n",
    "  total=0\n",
    "\n",
    "  for n in range(2, int(1e6)):\n",
    "    m=n\n",
    "    t=0\n",
    "\n",
    "    for i in range(1, int(math.log(n, 10))+2):\n",
    "      tmp=m%(10**i)\n",
    "      t+=(tmp//10**(i-1))**5\n",
    "      m-=tmp\n",
    "\n",
    "      if t > n:\n",
    "        break\n",
    "    else:\n",
    "      if t == n:\n",
    "        total+=n\n",
    "\n",
    "  return total\n",
    "\n",
    "def brute():\n",
    "  return 0\n",
    "\n",
    "print(f'res: {res()}')\n",
    "# print(f'brute res: {brute()}')"
   ]
  }
 ],
 "metadata": {
  "kernelspec": {
   "display_name": "euler--WaP889N-py3.12",
   "language": "python",
   "name": "python3"
  },
  "language_info": {
   "codemirror_mode": {
    "name": "ipython",
    "version": 3
   },
   "file_extension": ".py",
   "mimetype": "text/x-python",
   "name": "python",
   "nbconvert_exporter": "python",
   "pygments_lexer": "ipython3",
   "version": "3.12.2"
  }
 },
 "nbformat": 4,
 "nbformat_minor": 2
}
