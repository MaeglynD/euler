{
 "cells": [
  {
   "cell_type": "markdown",
   "metadata": {},
   "source": [
    "$$\n",
    "\\begin{aligned}\n",
    "    & \\underset{n \\, \\in \\, \\{1, \\ldots, 10^6\\}}{\\operatorname*{\\mathrm{argmax}}} \n",
    "        \\left( \\frac{n}{\\phi(n)} \\right) \\,\n",
    "        \\equiv \n",
    "        \\underset{n \\, \\in \\, \\{1, \\ldots, 10^6\\}}{\\operatorname*{\\mathrm{argmax}}} \n",
    "        \\left[ \\frac{1}{\\displaystyle \\prod_{\\substack{p \\mid n}} \\left( 1 - \\frac{1}{p} \\right)} \\right] \\\\\\\\\n",
    "    & \\Rightarrow \\quad \\underset{n}{\\operatorname*{\\mathrm{max}}} \\,\\{ P_n \\# \\le 10^6\\}\n",
    "\\end{aligned}\n",
    "$$\n"
   ]
  },
  {
   "cell_type": "code",
   "execution_count": null,
   "metadata": {},
   "outputs": [
    {
     "name": "stdout",
     "output_type": "stream",
     "text": [
      "res: 510510\n",
      "brute res: 0\n"
     ]
    }
   ],
   "source": [
    "import math\n",
    "\n",
    "def is_prime(n):\n",
    "  for i in range(3, int(n**0.5)+1, 2):\n",
    "    if n%i==0:\n",
    "      return False\n",
    "  return True \n",
    "\n",
    "def res():\n",
    "  n,total=3,6\n",
    "\n",
    "  while True:\n",
    "    nc=n+2\n",
    "\n",
    "    while not is_prime(nc):\n",
    "      nc+=2\n",
    "    \n",
    "    if total*nc > 1e6:\n",
    "      return total\n",
    "    \n",
    "    total*=nc\n",
    "    n=nc\n",
    "\n",
    "def brute():\n",
    "  return 0\n",
    "\n",
    "print(f'res: {res()}')\n",
    "# print(f'brute res: {brute()}')"
   ]
  }
 ],
 "metadata": {
  "kernelspec": {
   "display_name": "euler--WaP889N-py3.12",
   "language": "python",
   "name": "python3"
  },
  "language_info": {
   "codemirror_mode": {
    "name": "ipython",
    "version": 3
   },
   "file_extension": ".py",
   "mimetype": "text/x-python",
   "name": "python",
   "nbconvert_exporter": "python",
   "pygments_lexer": "ipython3",
   "version": "3.12.2"
  }
 },
 "nbformat": 4,
 "nbformat_minor": 2
}
