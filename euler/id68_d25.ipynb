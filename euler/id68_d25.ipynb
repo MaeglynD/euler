{
 "cells": [
  {
   "cell_type": "markdown",
   "metadata": {},
   "source": []
  },
  {
   "cell_type": "code",
   "execution_count": null,
   "metadata": {},
   "outputs": [
    {
     "name": "stdout",
     "output_type": "stream",
     "text": [
      "res: 6531031914842725\n"
     ]
    }
   ],
   "source": [
    "import math\n",
    "from itertools import permutations\n",
    "\n",
    "def res():\n",
    "  mx=0\n",
    "  o=[(0,5,6),(1,6,7),(2,7,8),(3,8,9),(4,9,5)]\n",
    "\n",
    "  for n in permutations(range(1, 11)):\n",
    "    if (n[0]<min(n[1:5])) and (10 in n[:5]) and (len(set(sum(n[j] for j in i) for i in o))==1):\n",
    "      if mx<(m:=int(''.join([str(n[j]) for i in o for j in i]))):\n",
    "        mx=m\n",
    "  \n",
    "  return mx\n",
    "\n",
    "def brute():\n",
    "  return 0\n",
    "\n",
    "print(f'res: {res()}')\n",
    "# print(f'brute res: {brute()}')"
   ]
  }
 ],
 "metadata": {
  "kernelspec": {
   "display_name": "euler--WaP889N-py3.12",
   "language": "python",
   "name": "python3"
  },
  "language_info": {
   "codemirror_mode": {
    "name": "ipython",
    "version": 3
   },
   "file_extension": ".py",
   "mimetype": "text/x-python",
   "name": "python",
   "nbconvert_exporter": "python",
   "pygments_lexer": "ipython3",
   "version": "3.12.2"
  }
 },
 "nbformat": 4,
 "nbformat_minor": 2
}
