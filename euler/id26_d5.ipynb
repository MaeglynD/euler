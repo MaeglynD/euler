{
 "cells": [
  {
   "cell_type": "markdown",
   "metadata": {},
   "source": []
  },
  {
   "cell_type": "code",
   "execution_count": null,
   "metadata": {},
   "outputs": [
    {
     "name": "stdout",
     "output_type": "stream",
     "text": [
      "res: 983\n"
     ]
    }
   ],
   "source": [
    "import math\n",
    "\n",
    "def res():\n",
    "  curr, mx = 0, 0\n",
    "\n",
    "  for n in [i for i in range(3, 1000) if i%2!=0 and i%5!=0]:\n",
    "    r=10**(int(math.log(n, 10))+1)\n",
    "    mem=set()\n",
    "    i=0\n",
    "\n",
    "    while (m := r%n) != 0 and (m not in mem):\n",
    "      r*=10**(int(math.log(n, 10))-int(math.log(m, 10))+1)\n",
    "      mem.add(m)\n",
    "      i+=1\n",
    "        \n",
    "    if mx < i:\n",
    "      curr=n\n",
    "      mx=i\n",
    "      \n",
    "  return curr\n",
    "\n",
    "def brute():\n",
    "  return 0\n",
    "\n",
    "print(f'res: {res()}')\n",
    "# print(f'brute res: {brute()}')"
   ]
  }
 ],
 "metadata": {
  "kernelspec": {
   "display_name": "euler--WaP889N-py3.12",
   "language": "python",
   "name": "python3"
  },
  "language_info": {
   "codemirror_mode": {
    "name": "ipython",
    "version": 3
   },
   "file_extension": ".py",
   "mimetype": "text/x-python",
   "name": "python",
   "nbconvert_exporter": "python",
   "pygments_lexer": "ipython3",
   "version": "3.12.2"
  }
 },
 "nbformat": 4,
 "nbformat_minor": 2
}
