{
 "cells": [
  {
   "cell_type": "markdown",
   "metadata": {},
   "source": []
  },
  {
   "cell_type": "code",
   "execution_count": 6,
   "metadata": {},
   "outputs": [
    {
     "name": "stdout",
     "output_type": "stream",
     "text": [
      "res: 260324\n"
     ]
    }
   ],
   "source": [
    "import math\n",
    "import heapq\n",
    "\n",
    "def res():\n",
    "  check = [(0, -1), (-1, 0), (1, 0)]\n",
    "  data = [[int(j) for j in i.split(',')] for i in open('../files/id82.txt', 'r').readlines()]\n",
    "  n = len(data)\n",
    "  best = math.inf\n",
    "\n",
    "  for i in range(n):\n",
    "    v = [[False for __ in range(n)] for _ in range(n)]\n",
    "    mem = [[math.inf for __ in range(n)] for _ in range(n)]\n",
    "\n",
    "    mem[i][n-1] = data[i][n-1]\n",
    "    q = []\n",
    "    \n",
    "    heapq.heapify(q)\n",
    "    heapq.heappush(q, (mem[i][n-1], i, n-1))\n",
    "\n",
    "    while len(q):\n",
    "      val, y0, x0 = heapq.heappop(q)\n",
    "\n",
    "      if x0 == 0:\n",
    "        best = min(best, val)\n",
    "        break\n",
    "\n",
    "      if v[y0][x0]:\n",
    "        continue\n",
    "\n",
    "      v[y0][x0] = True\n",
    "\n",
    "      for [y, x] in check:\n",
    "        py, px = y0 + y, x0 + x\n",
    "\n",
    "        if (py < n) and (py > -1) and (px < n) and (px > -1) and not v[py][px]:\n",
    "          mem[py][px] = min(mem[py][px], val+data[py][px])\n",
    "          heapq.heappush(q, (mem[py][px], py, px))\n",
    "\n",
    "  return best\n",
    "\n",
    "def brute():\n",
    "  return 0\n",
    "\n",
    "print(f'res: {res()}')\n",
    "# print(f'brute res: {brute()}')"
   ]
  }
 ],
 "metadata": {
  "kernelspec": {
   "display_name": "euler--WaP889N-py3.12",
   "language": "python",
   "name": "python3"
  },
  "language_info": {
   "codemirror_mode": {
    "name": "ipython",
    "version": 3
   },
   "file_extension": ".py",
   "mimetype": "text/x-python",
   "name": "python",
   "nbconvert_exporter": "python",
   "pygments_lexer": "ipython3",
   "version": "3.12.2"
  }
 },
 "nbformat": 4,
 "nbformat_minor": 2
}
